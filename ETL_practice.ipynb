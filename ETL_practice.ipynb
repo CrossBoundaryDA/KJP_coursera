{
 "cells": [
  {
   "cell_type": "markdown",
   "metadata": {},
   "source": [
    "# ETL Practice Project\n",
    "**Project Scenario** \n",
    "<br>\n",
    "An international firm that is looking to expand its business in different countries across the world has recruited you. You have been hired as a junior Data Engineer and are tasked with:\n",
    "\n",
    "1. Creating an automated script that can extract the list of all countries:\n",
    "- In order of their GDPs in billion USDs\n",
    "- Rounded to 2 decimal places\n",
    "- As logged by the International Monetary Fund (IMF). Since IMF releases this evaluation twice a year, this code will be used by the organization to extract the information as it is updated. The required data seems to be available on the URL mentioned here: <a href=https://web.archive.org/web/20230902185326/https://en.wikipedia.org/wiki/List_of_countries_by_GDP_%28nominal%29>List of countries by GDP (nominal)</a>\n",
    "\n",
    "2. The required information needs to be made accessible as:\n",
    "- A CSV file Countries_by_GDP.csv\n",
    "- A table Countries_by_GDP in a database file World_Economies.db with attributes Country and GDP_USD_billion\n",
    "\n",
    "3. Your boss wants you to demonstrate the success of this code by:\n",
    "- Running a query on the database table to display only the entries with more than a 100 billion USD economy\n",
    "- Log in a file with the entire process of execution named etl_project_log.txt\n",
    "\n",
    "**You must create a Python code 'etl_project_gdp.py' that performs all the required tasks**"
   ]
  },
  {
   "cell_type": "markdown",
   "metadata": {},
   "source": [
    "\n",
    "**Project Objectives**\n",
    "<br>\n",
    "You have to complete the following tasks for this project:\n",
    "1. Write a data extraction function to retrieve the relevant information from the required URL.\n",
    "1. Transform the available GDP information into 'Billion USD' from 'Million USD'\n",
    "1. Load the transformed information to the required CSV file and as a database file\n",
    "1. Run the required query on the database\n",
    "1. Log the progress of the code with appropriate timestamps."
   ]
  },
  {
   "cell_type": "markdown",
   "metadata": {},
   "source": [
    "<hr>\n",
    "\n",
    "**Setup**"
   ]
  },
  {
   "cell_type": "code",
   "execution_count": 109,
   "metadata": {},
   "outputs": [],
   "source": [
    "# import required libraries\n",
    "import sqlite3\n",
    "import pandas as pd\n",
    "import requests\n",
    "from bs4 import BeautifulSoup\n",
    "from datetime import datetime\n",
    "import numpy as np\n"
   ]
  },
  {
   "cell_type": "code",
   "execution_count": 122,
   "metadata": {},
   "outputs": [],
   "source": [
    "#define empty entities\n",
    "db_name = 'world_economies.db'\n",
    "table_name = 'countries_by_gdp'\n",
    "csv_path = './countries_by_gdp.csv'"
   ]
  },
  {
   "cell_type": "code",
   "execution_count": 111,
   "metadata": {},
   "outputs": [],
   "source": [
    "# define source and source structure\n",
    "url = 'https://web.archive.org/web/20230902185326/https:/en.wikipedia.org/wiki/List_of_countries_by_GDP_%28nominal%29'\n",
    "table_attribs = ['Country', 'GDP (Millions, USD)']\n",
    "column_indices = [0, 2]  # target columns from which data will be extracted\n"
   ]
  },
  {
   "cell_type": "markdown",
   "metadata": {},
   "source": [
    "**Testing Extract**"
   ]
  },
  {
   "cell_type": "code",
   "execution_count": 112,
   "metadata": {},
   "outputs": [],
   "source": [
    "# parse HTML from url\n",
    "html_content = requests.get(url).content\n",
    "data = BeautifulSoup(html_content, 'html.parser') # choose content to also bring in tags\n",
    "table = data.find_all('table')[2] # get content related to table at index 2\n",
    "rows = table.find_all('tr') # get all rows\n",
    "rows = rows[2:] # remove first two header rows"
   ]
  },
  {
   "cell_type": "code",
   "execution_count": 117,
   "metadata": {},
   "outputs": [],
   "source": [
    "# filter cells from the specified columns into a list\n",
    "filtered_cells = []\n",
    "for row in rows:\n",
    "    cells = row.find_all('td')\n",
    "    if len(cells) == 0: #remember to check number of cells in a row - many web tables have invisible merged rows\n",
    "        continue\n",
    "    if row.find('a') is None:\n",
    "        continue\n",
    "    selected_cells = [cells[i] for i in column_indices if i < len(cells)]\n",
    "    filtered_cells.append(selected_cells)"
   ]
  },
  {
   "cell_type": "code",
   "execution_count": 131,
   "metadata": {},
   "outputs": [],
   "source": [
    "# extract data from filtered cells into a pandas dataframe\n",
    "df = pd.DataFrame(columns=table_attribs)\n",
    "for row in filtered_cells:\n",
    "    data_dict = {table_attribs[0]: row[0].text.strip(), table_attribs[1]: row[1].text.strip()}\n",
    "    df1 = pd.DataFrame([data_dict], index=[0])\n",
    "    df = pd.concat([df, df1], ignore_index=True)"
   ]
  },
  {
   "cell_type": "code",
   "execution_count": 138,
   "metadata": {},
   "outputs": [],
   "source": [
    "# replace special character in GDP column with 0\n",
    "df[table_attribs[1]] = df[table_attribs[1]].replace('—', 0)"
   ]
  },
  {
   "cell_type": "code",
   "execution_count": 139,
   "metadata": {},
   "outputs": [],
   "source": [
    "def extract(url,table_attribs,column_indices):\n",
    "    # parse HTML from url\n",
    "    html_content = requests.get(url).content\n",
    "    data = BeautifulSoup(html_content, 'html.parser') # choose content to also bring in tags\n",
    "    table = data.find_all('table')[2] # get content related to table at index 2\n",
    "    rows = table.find_all('tr') # get all rows\n",
    "    rows = rows[2:] # remove first two header rows\n",
    "\n",
    "    # filter cells from the specified columns into a list\n",
    "    filtered_cells = []\n",
    "    for row in rows:\n",
    "        cells = row.find_all('td')\n",
    "        if len(cells) == 0: # remember to check number of cells in a row - many web tables have invisible merged rows\n",
    "            continue\n",
    "        if row.find('a') is None: # rows not hyperlinked to a country, namely World, are excluded\n",
    "            continue\n",
    "        selected_cells = [cells[i] for i in column_indices if i < len(cells)]\n",
    "        filtered_cells.append(selected_cells)\n",
    "\n",
    "    # extract data from filtered cells into a pandas dataframe\n",
    "    df = pd.DataFrame(columns=table_attribs)\n",
    "    for row in filtered_cells:\n",
    "        data_dict = {table_attribs[0]: row[0].text.strip(), table_attribs[1]: row[1].text.strip()}\n",
    "        df1 = pd.DataFrame([data_dict], index=[0])\n",
    "        df = pd.concat([df, df1], ignore_index=True)\n",
    "        \n",
    "    # replace special character in GDP column with 0\n",
    "    df[table_attribs[1]] = df[table_attribs[1]].replace('—', 0)\n",
    "    return df"
   ]
  },
  {
   "cell_type": "code",
   "execution_count": 140,
   "metadata": {},
   "outputs": [
    {
     "data": {
      "text/html": [
       "<div>\n",
       "<style scoped>\n",
       "    .dataframe tbody tr th:only-of-type {\n",
       "        vertical-align: middle;\n",
       "    }\n",
       "\n",
       "    .dataframe tbody tr th {\n",
       "        vertical-align: top;\n",
       "    }\n",
       "\n",
       "    .dataframe thead th {\n",
       "        text-align: right;\n",
       "    }\n",
       "</style>\n",
       "<table border=\"1\" class=\"dataframe\">\n",
       "  <thead>\n",
       "    <tr style=\"text-align: right;\">\n",
       "      <th></th>\n",
       "      <th>Country</th>\n",
       "      <th>GDP (Millions, USD)</th>\n",
       "    </tr>\n",
       "  </thead>\n",
       "  <tbody>\n",
       "    <tr>\n",
       "      <th>0</th>\n",
       "      <td>United States</td>\n",
       "      <td>26,854,599</td>\n",
       "    </tr>\n",
       "    <tr>\n",
       "      <th>1</th>\n",
       "      <td>China</td>\n",
       "      <td>19,373,586</td>\n",
       "    </tr>\n",
       "    <tr>\n",
       "      <th>2</th>\n",
       "      <td>Japan</td>\n",
       "      <td>4,409,738</td>\n",
       "    </tr>\n",
       "    <tr>\n",
       "      <th>3</th>\n",
       "      <td>Germany</td>\n",
       "      <td>4,308,854</td>\n",
       "    </tr>\n",
       "    <tr>\n",
       "      <th>4</th>\n",
       "      <td>India</td>\n",
       "      <td>3,736,882</td>\n",
       "    </tr>\n",
       "    <tr>\n",
       "      <th>...</th>\n",
       "      <td>...</td>\n",
       "      <td>...</td>\n",
       "    </tr>\n",
       "    <tr>\n",
       "      <th>208</th>\n",
       "      <td>Anguilla</td>\n",
       "      <td>0</td>\n",
       "    </tr>\n",
       "    <tr>\n",
       "      <th>209</th>\n",
       "      <td>Kiribati</td>\n",
       "      <td>248</td>\n",
       "    </tr>\n",
       "    <tr>\n",
       "      <th>210</th>\n",
       "      <td>Nauru</td>\n",
       "      <td>151</td>\n",
       "    </tr>\n",
       "    <tr>\n",
       "      <th>211</th>\n",
       "      <td>Montserrat</td>\n",
       "      <td>0</td>\n",
       "    </tr>\n",
       "    <tr>\n",
       "      <th>212</th>\n",
       "      <td>Tuvalu</td>\n",
       "      <td>65</td>\n",
       "    </tr>\n",
       "  </tbody>\n",
       "</table>\n",
       "<p>213 rows × 2 columns</p>\n",
       "</div>"
      ],
      "text/plain": [
       "           Country GDP (Millions, USD)\n",
       "0    United States          26,854,599\n",
       "1            China          19,373,586\n",
       "2            Japan           4,409,738\n",
       "3          Germany           4,308,854\n",
       "4            India           3,736,882\n",
       "..             ...                 ...\n",
       "208       Anguilla                   0\n",
       "209       Kiribati                 248\n",
       "210          Nauru                 151\n",
       "211     Montserrat                   0\n",
       "212         Tuvalu                  65\n",
       "\n",
       "[213 rows x 2 columns]"
      ]
     },
     "execution_count": 140,
     "metadata": {},
     "output_type": "execute_result"
    }
   ],
   "source": [
    "extract(url,table_attribs,column_indices)"
   ]
  },
  {
   "cell_type": "markdown",
   "metadata": {},
   "source": [
    "**Testing Transform**"
   ]
  },
  {
   "cell_type": "markdown",
   "metadata": {},
   "source": [
    "**Testing Load**"
   ]
  },
  {
   "cell_type": "markdown",
   "metadata": {},
   "source": [
    "**Testing Query**"
   ]
  },
  {
   "cell_type": "code",
   "execution_count": null,
   "metadata": {},
   "outputs": [],
   "source": [
    "# Code for ETL operations on Country-GDP data\n",
    "\n",
    "def transform(df):\n",
    "    ''' This function converts the GDP information from Currency\n",
    "    format to float value, transforms the information of GDP from\n",
    "    USD (Millions) to USD (Billions) rounding to 2 decimal places.\n",
    "    The function returns the transformed dataframe.'''\n",
    "\n",
    "    return df\n",
    "\n",
    "def load_to_csv(df, csv_path):\n",
    "    ''' This function saves the final dataframe as a `CSV` file \n",
    "    in the provided path. Function returns nothing.'''\n",
    "\n",
    "def load_to_db(df, sql_connection, table_name):\n",
    "    ''' This function saves the final dataframe as a database table\n",
    "    with the provided name. Function returns nothing.'''\n",
    "\n",
    "def run_query(query_statement, sql_connection):\n",
    "    ''' This function runs the stated query on the database table and\n",
    "    prints the output on the terminal. Function returns nothing. '''\n",
    "\n",
    "def log_progress(message):\n",
    "    ''' This function logs the mentioned message at a given stage of the code execution to a log file. Function returns nothing'''\n",
    "\n",
    "''' Here, you define the required entities and call the relevant \n",
    "functions in the correct order to complete the project. Note that this\n",
    "portion is not inside any function.'''"
   ]
  }
 ],
 "metadata": {
  "kernelspec": {
   "display_name": "kjpenv",
   "language": "python",
   "name": "python3"
  },
  "language_info": {
   "codemirror_mode": {
    "name": "ipython",
    "version": 3
   },
   "file_extension": ".py",
   "mimetype": "text/x-python",
   "name": "python",
   "nbconvert_exporter": "python",
   "pygments_lexer": "ipython3",
   "version": "3.12.7"
  }
 },
 "nbformat": 4,
 "nbformat_minor": 2
}
