{
 "cells": [
  {
   "cell_type": "markdown",
   "metadata": {},
   "source": [
    "# ETL Practice Project\n",
    "**Project Scenario** \n",
    "<br>\n",
    "An international firm that is looking to expand its business in different countries across the world has recruited you. You have been hired as a junior Data Engineer and are tasked with:\n",
    "\n",
    "1. Creating an automated script that can extract the list of all countries:\n",
    "- In order of their GDPs in billion USDs\n",
    "- Rounded to 2 decimal places\n",
    "- As logged by the International Monetary Fund (IMF). Since IMF releases this evaluation twice a year, this code will be used by the organization to extract the information as it is updated. The required data seems to be available on the URL mentioned here: <a href=https://web.archive.org/web/20230902185326/https://en.wikipedia.org/wiki/List_of_countries_by_GDP_%28nominal%29>List of countries by GDP (nominal)</a>\n",
    "\n",
    "2. The required information needs to be made accessible as:\n",
    "- A CSV file Countries_by_GDP.csv\n",
    "- A table Countries_by_GDP in a database file World_Economies.db with attributes Country and GDP_USD_billion\n",
    "\n",
    "3. Your boss wants you to demonstrate the success of this code by:\n",
    "- Running a query on the database table to display only the entries with more than a 100 billion USD economy\n",
    "- Log in a file with the entire process of execution named etl_project_log.txt\n",
    "\n",
    "**You must create a Python code 'etl_project_gdp.py' that performs all the required tasks**"
   ]
  },
  {
   "cell_type": "markdown",
   "metadata": {},
   "source": [
    "\n",
    "**Project Objectives**\n",
    "<br>\n",
    "You have to complete the following tasks for this project:\n",
    "1. Write a data extraction function to retrieve the relevant information from the required URL.\n",
    "1. Transform the available GDP information into 'Billion USD' from 'Million USD'\n",
    "1. Load the transformed information to the required CSV file and as a database file\n",
    "1. Run the required query on the database\n",
    "1. Log the progress of the code with appropriate timestamps."
   ]
  },
  {
   "cell_type": "markdown",
   "metadata": {},
   "source": [
    "<hr>\n",
    "\n",
    "**Setup**"
   ]
  },
  {
   "cell_type": "code",
   "execution_count": null,
   "metadata": {},
   "outputs": [],
   "source": [
    "# prep the Terminal\n",
    "python3.11 -m pip install bs4\n",
    "python3.11 -m pip install pandas"
   ]
  },
  {
   "cell_type": "code",
   "execution_count": 24,
   "metadata": {},
   "outputs": [],
   "source": [
    "# import required libraries\n",
    "import sqlite3\n",
    "import pandas as pd\n",
    "import requests\n",
    "from bs4 import BeautifulSoup\n",
    "from datetime import datetime\n"
   ]
  },
  {
   "cell_type": "code",
   "execution_count": 25,
   "metadata": {},
   "outputs": [],
   "source": [
    "#define empty entities\n",
    "db_name = 'world_economies.db'\n",
    "table_name = 'countries_by_gdp'\n",
    "csv_path = './countries_by_gdp.csv'\n",
    "log_file = \"etl_project_log.txt\""
   ]
  },
  {
   "cell_type": "code",
   "execution_count": 26,
   "metadata": {},
   "outputs": [],
   "source": [
    "# define source and source structure\n",
    "url = 'https://web.archive.org/web/20230902185326/https:/en.wikipedia.org/wiki/List_of_countries_by_GDP_%28nominal%29'\n",
    "table_attribs = ['Country', 'GDP (Millions, USD)']\n",
    "column_indices = [0, 2]  # target columns from which data will be extracted\n"
   ]
  },
  {
   "cell_type": "markdown",
   "metadata": {},
   "source": [
    "**Testing Extract**"
   ]
  },
  {
   "cell_type": "code",
   "execution_count": null,
   "metadata": {},
   "outputs": [],
   "source": [
    "# parse HTML from url\n",
    "html_content = requests.get(url).content\n",
    "data = BeautifulSoup(html_content, 'html.parser') # choose content to also bring in tags\n",
    "table = data.find_all('table')[2] # get content related to table at index 2\n",
    "rows = table.find_all('tr') # get all rows\n",
    "rows = rows[2:] # remove first two header rows\n",
    "rows"
   ]
  },
  {
   "cell_type": "code",
   "execution_count": null,
   "metadata": {},
   "outputs": [],
   "source": [
    "# filter cells from the specified columns into a list\n",
    "filtered_cells = []\n",
    "for row in rows:\n",
    "    cells = row.find_all('td')\n",
    "    if len(cells) == 0: #remember to check number of cells in a row - many web tables have invisible merged rows\n",
    "        continue\n",
    "    if row.find('a') is None:\n",
    "        continue\n",
    "    selected_cells = [cells[i] for i in column_indices if i < len(cells)]\n",
    "    filtered_cells.append(selected_cells)"
   ]
  },
  {
   "cell_type": "code",
   "execution_count": null,
   "metadata": {},
   "outputs": [],
   "source": [
    "# extract data from filtered cells into a pandas dataframe\n",
    "df = pd.DataFrame(columns=table_attribs)\n",
    "for row in filtered_cells:\n",
    "    data_dict = {table_attribs[0]: row[0].text.strip(), table_attribs[1]: row[1].text.strip()}\n",
    "    df1 = pd.DataFrame([data_dict], index=[0])\n",
    "    df = pd.concat([df, df1], ignore_index=True)"
   ]
  },
  {
   "cell_type": "code",
   "execution_count": null,
   "metadata": {},
   "outputs": [],
   "source": [
    "# replace special character in GDP column with 0\n",
    "df[table_attribs[1]] = df[table_attribs[1]].replace('—', 0)"
   ]
  },
  {
   "cell_type": "code",
   "execution_count": 5,
   "metadata": {},
   "outputs": [],
   "source": [
    "def extract(url,table_attribs,column_indices):\n",
    "    # parse HTML from url\n",
    "    html_content = requests.get(url).content\n",
    "    data = BeautifulSoup(html_content, 'html.parser') # choose content to also bring in tags\n",
    "    table = data.find_all('table')[2] # get content related to table at index 2\n",
    "    rows = table.find_all('tr') # get all rows\n",
    "    rows = rows[2:] # remove first two header rows\n",
    "\n",
    "    # filter cells from the specified columns into a list\n",
    "    filtered_cells = []\n",
    "    for row in rows:\n",
    "        cells = row.find_all('td')\n",
    "        if len(cells) == 0: # remember to check number of cells in a row - many web tables have invisible merged rows\n",
    "            continue\n",
    "        if row.find('a') is None: # rows not hyperlinked to a country, namely World, are excluded\n",
    "            continue\n",
    "        selected_cells = [cells[i] for i in column_indices if i < len(cells)]\n",
    "        filtered_cells.append(selected_cells)\n",
    "\n",
    "    # extract data from filtered cells into a pandas dataframe\n",
    "    df = pd.DataFrame(columns=table_attribs)\n",
    "    for row in filtered_cells:\n",
    "        data_dict = {table_attribs[0]: row[0].text.strip(), table_attribs[1]: row[1].text.strip()}\n",
    "        df1 = pd.DataFrame([data_dict], index=[0])\n",
    "        df = pd.concat([df, df1], ignore_index=True)\n",
    "        \n",
    "    return df"
   ]
  },
  {
   "cell_type": "code",
   "execution_count": 9,
   "metadata": {},
   "outputs": [
    {
     "data": {
      "text/html": [
       "<div>\n",
       "<style scoped>\n",
       "    .dataframe tbody tr th:only-of-type {\n",
       "        vertical-align: middle;\n",
       "    }\n",
       "\n",
       "    .dataframe tbody tr th {\n",
       "        vertical-align: top;\n",
       "    }\n",
       "\n",
       "    .dataframe thead th {\n",
       "        text-align: right;\n",
       "    }\n",
       "</style>\n",
       "<table border=\"1\" class=\"dataframe\">\n",
       "  <thead>\n",
       "    <tr style=\"text-align: right;\">\n",
       "      <th></th>\n",
       "      <th>Country</th>\n",
       "      <th>GDP (Millions, USD)</th>\n",
       "    </tr>\n",
       "  </thead>\n",
       "  <tbody>\n",
       "    <tr>\n",
       "      <th>0</th>\n",
       "      <td>United States</td>\n",
       "      <td>26,854,599</td>\n",
       "    </tr>\n",
       "    <tr>\n",
       "      <th>1</th>\n",
       "      <td>China</td>\n",
       "      <td>19,373,586</td>\n",
       "    </tr>\n",
       "    <tr>\n",
       "      <th>2</th>\n",
       "      <td>Japan</td>\n",
       "      <td>4,409,738</td>\n",
       "    </tr>\n",
       "    <tr>\n",
       "      <th>3</th>\n",
       "      <td>Germany</td>\n",
       "      <td>4,308,854</td>\n",
       "    </tr>\n",
       "    <tr>\n",
       "      <th>4</th>\n",
       "      <td>India</td>\n",
       "      <td>3,736,882</td>\n",
       "    </tr>\n",
       "    <tr>\n",
       "      <th>...</th>\n",
       "      <td>...</td>\n",
       "      <td>...</td>\n",
       "    </tr>\n",
       "    <tr>\n",
       "      <th>208</th>\n",
       "      <td>Anguilla</td>\n",
       "      <td>—</td>\n",
       "    </tr>\n",
       "    <tr>\n",
       "      <th>209</th>\n",
       "      <td>Kiribati</td>\n",
       "      <td>248</td>\n",
       "    </tr>\n",
       "    <tr>\n",
       "      <th>210</th>\n",
       "      <td>Nauru</td>\n",
       "      <td>151</td>\n",
       "    </tr>\n",
       "    <tr>\n",
       "      <th>211</th>\n",
       "      <td>Montserrat</td>\n",
       "      <td>—</td>\n",
       "    </tr>\n",
       "    <tr>\n",
       "      <th>212</th>\n",
       "      <td>Tuvalu</td>\n",
       "      <td>65</td>\n",
       "    </tr>\n",
       "  </tbody>\n",
       "</table>\n",
       "<p>213 rows × 2 columns</p>\n",
       "</div>"
      ],
      "text/plain": [
       "           Country GDP (Millions, USD)\n",
       "0    United States          26,854,599\n",
       "1            China          19,373,586\n",
       "2            Japan           4,409,738\n",
       "3          Germany           4,308,854\n",
       "4            India           3,736,882\n",
       "..             ...                 ...\n",
       "208       Anguilla                   —\n",
       "209       Kiribati                 248\n",
       "210          Nauru                 151\n",
       "211     Montserrat                   —\n",
       "212         Tuvalu                  65\n",
       "\n",
       "[213 rows x 2 columns]"
      ]
     },
     "execution_count": 9,
     "metadata": {},
     "output_type": "execute_result"
    }
   ],
   "source": [
    "data = extract(url,table_attribs,column_indices)\n",
    "data"
   ]
  },
  {
   "cell_type": "markdown",
   "metadata": {},
   "source": [
    "**Testing Transform**"
   ]
  },
  {
   "cell_type": "code",
   "execution_count": null,
   "metadata": {},
   "outputs": [],
   "source": [
    "# clean string data in GDP column\n",
    "data['GDP (Millions, USD)'] = data['GDP (Millions, USD)'].str.replace(',', '') # remove commas from string\n",
    "data['GDP (Millions, USD)'] = data['GDP (Millions, USD)'].replace('—', 0) # convert special character to zero\n"
   ]
  },
  {
   "cell_type": "code",
   "execution_count": null,
   "metadata": {},
   "outputs": [],
   "source": [
    "# convert millions to billions, rounded to two decimal places\n",
    "data['GDP (Millions, USD)'] = round(data['GDP (Millions, USD)'].astype(float) / 1000,2) # convert string to float to run arithmetic operations\n",
    "data.rename(columns={'GDP (Millions, USD)': 'GDP (Billions, USD)'}, inplace=True)  # rename column to reflect new values\n",
    "print(data)\n"
   ]
  },
  {
   "cell_type": "code",
   "execution_count": 6,
   "metadata": {},
   "outputs": [],
   "source": [
    "def transform(df):\n",
    "    # clean string data in GDP column\n",
    "    df['GDP (Millions, USD)'] = df['GDP (Millions, USD)'].str.replace(',', '') # remove commas from string\n",
    "    df['GDP (Millions, USD)'] = df['GDP (Millions, USD)'].replace('—', 0) # convert special character to zero\n",
    "\n",
    "    # convert millions to billions, rounded to two decimal places\n",
    "    df['GDP (Millions, USD)'] = round(df['GDP (Millions, USD)'].astype(float) / 1000,2) # convert string to float to run arithmetic operations\n",
    "    df.rename(columns={'GDP (Millions, USD)': 'GDP (Billions, USD)'}, inplace=True)  # rename column to reflect new values\n",
    "    return df"
   ]
  },
  {
   "cell_type": "code",
   "execution_count": 10,
   "metadata": {},
   "outputs": [
    {
     "data": {
      "text/html": [
       "<div>\n",
       "<style scoped>\n",
       "    .dataframe tbody tr th:only-of-type {\n",
       "        vertical-align: middle;\n",
       "    }\n",
       "\n",
       "    .dataframe tbody tr th {\n",
       "        vertical-align: top;\n",
       "    }\n",
       "\n",
       "    .dataframe thead th {\n",
       "        text-align: right;\n",
       "    }\n",
       "</style>\n",
       "<table border=\"1\" class=\"dataframe\">\n",
       "  <thead>\n",
       "    <tr style=\"text-align: right;\">\n",
       "      <th></th>\n",
       "      <th>Country</th>\n",
       "      <th>GDP (Billions, USD)</th>\n",
       "    </tr>\n",
       "  </thead>\n",
       "  <tbody>\n",
       "    <tr>\n",
       "      <th>0</th>\n",
       "      <td>United States</td>\n",
       "      <td>26854.60</td>\n",
       "    </tr>\n",
       "    <tr>\n",
       "      <th>1</th>\n",
       "      <td>China</td>\n",
       "      <td>19373.59</td>\n",
       "    </tr>\n",
       "    <tr>\n",
       "      <th>2</th>\n",
       "      <td>Japan</td>\n",
       "      <td>4409.74</td>\n",
       "    </tr>\n",
       "    <tr>\n",
       "      <th>3</th>\n",
       "      <td>Germany</td>\n",
       "      <td>4308.85</td>\n",
       "    </tr>\n",
       "    <tr>\n",
       "      <th>4</th>\n",
       "      <td>India</td>\n",
       "      <td>3736.88</td>\n",
       "    </tr>\n",
       "    <tr>\n",
       "      <th>...</th>\n",
       "      <td>...</td>\n",
       "      <td>...</td>\n",
       "    </tr>\n",
       "    <tr>\n",
       "      <th>208</th>\n",
       "      <td>Anguilla</td>\n",
       "      <td>0.00</td>\n",
       "    </tr>\n",
       "    <tr>\n",
       "      <th>209</th>\n",
       "      <td>Kiribati</td>\n",
       "      <td>0.25</td>\n",
       "    </tr>\n",
       "    <tr>\n",
       "      <th>210</th>\n",
       "      <td>Nauru</td>\n",
       "      <td>0.15</td>\n",
       "    </tr>\n",
       "    <tr>\n",
       "      <th>211</th>\n",
       "      <td>Montserrat</td>\n",
       "      <td>0.00</td>\n",
       "    </tr>\n",
       "    <tr>\n",
       "      <th>212</th>\n",
       "      <td>Tuvalu</td>\n",
       "      <td>0.06</td>\n",
       "    </tr>\n",
       "  </tbody>\n",
       "</table>\n",
       "<p>213 rows × 2 columns</p>\n",
       "</div>"
      ],
      "text/plain": [
       "           Country  GDP (Billions, USD)\n",
       "0    United States             26854.60\n",
       "1            China             19373.59\n",
       "2            Japan              4409.74\n",
       "3          Germany              4308.85\n",
       "4            India              3736.88\n",
       "..             ...                  ...\n",
       "208       Anguilla                 0.00\n",
       "209       Kiribati                 0.25\n",
       "210          Nauru                 0.15\n",
       "211     Montserrat                 0.00\n",
       "212         Tuvalu                 0.06\n",
       "\n",
       "[213 rows x 2 columns]"
      ]
     },
     "execution_count": 10,
     "metadata": {},
     "output_type": "execute_result"
    }
   ],
   "source": [
    "transformed_data = transform(data)\n",
    "transformed_data"
   ]
  },
  {
   "cell_type": "markdown",
   "metadata": {},
   "source": [
    "**Testing Load**"
   ]
  },
  {
   "cell_type": "code",
   "execution_count": null,
   "metadata": {},
   "outputs": [],
   "source": [
    "# convert transformed data to CSV\n",
    "file = transformed_data.to_csv(csv_path)"
   ]
  },
  {
   "cell_type": "code",
   "execution_count": 7,
   "metadata": {},
   "outputs": [],
   "source": [
    "def load_to_csv(df, csv_path):\n",
    "    file = df.to_csv(csv_path)"
   ]
  },
  {
   "cell_type": "code",
   "execution_count": 11,
   "metadata": {},
   "outputs": [],
   "source": [
    "load_to_csv(transformed_data, csv_path)"
   ]
  },
  {
   "cell_type": "code",
   "execution_count": 24,
   "metadata": {},
   "outputs": [
    {
     "data": {
      "text/plain": [
       "213"
      ]
     },
     "execution_count": 24,
     "metadata": {},
     "output_type": "execute_result"
    }
   ],
   "source": [
    "#connect to database\n",
    "conn = sqlite3.connect(db_name)\n",
    "\n",
    "#load data to table\n",
    "transformed_data.to_sql(table_name, conn, if_exists = 'replace', index =False) #check if exists and choose fail, replace, append as appropriate\n"
   ]
  },
  {
   "cell_type": "code",
   "execution_count": 8,
   "metadata": {},
   "outputs": [],
   "source": [
    "def load_to_db(df, sql_connection, table_name):\n",
    "    df.to_sql(table_name, sql_connection, if_exists = 'replace', index =False) #check if table exists and choose fail, replace, append as appropriate"
   ]
  },
  {
   "cell_type": "code",
   "execution_count": 12,
   "metadata": {},
   "outputs": [],
   "source": [
    "load_to_db(transformed_data, conn, table_name)"
   ]
  },
  {
   "cell_type": "markdown",
   "metadata": {},
   "source": [
    "**Testing Query**"
   ]
  },
  {
   "cell_type": "code",
   "execution_count": null,
   "metadata": {},
   "outputs": [
    {
     "name": "stdout",
     "output_type": "stream",
     "text": [
      "SELECT * FROM countries_by_gdp WHERE `GDP (Billions, USD)` > 100\n",
      "          Country  GDP (Billions, USD)\n",
      "0   United States             26854.60\n",
      "1           China             19373.59\n",
      "2           Japan              4409.74\n",
      "3         Germany              4308.85\n",
      "4           India              3736.88\n",
      "..            ...                  ...\n",
      "64          Kenya               118.13\n",
      "65         Angola               117.88\n",
      "66           Oman               104.90\n",
      "67      Guatemala               102.31\n",
      "68       Bulgaria               100.64\n",
      "\n",
      "[69 rows x 2 columns]\n"
     ]
    }
   ],
   "source": [
    "# query only countries with > 100 billion GDP\n",
    "query_statement = f\"SELECT * FROM {table_name} WHERE `GDP (Billions, USD)` > 100\"\n",
    "\n",
    "# query the database\n",
    "query_output = pd.read_sql(query_statement, conn)\n",
    "print(query_statement)\n",
    "print(query_output)\n"
   ]
  },
  {
   "cell_type": "code",
   "execution_count": 14,
   "metadata": {},
   "outputs": [],
   "source": [
    "def run_query(query_statement, sql_connection):\n",
    "    query_output = pd.read_sql(query_statement, sql_connection)\n",
    "    print(query_statement)\n",
    "    print(query_output)"
   ]
  },
  {
   "cell_type": "code",
   "execution_count": 15,
   "metadata": {},
   "outputs": [
    {
     "name": "stdout",
     "output_type": "stream",
     "text": [
      "SELECT * FROM countries_by_gdp WHERE `GDP (Billions, USD)` > 100\n",
      "          Country  GDP (Billions, USD)\n",
      "0   United States             26854.60\n",
      "1           China             19373.59\n",
      "2           Japan              4409.74\n",
      "3         Germany              4308.85\n",
      "4           India              3736.88\n",
      "..            ...                  ...\n",
      "64          Kenya               118.13\n",
      "65         Angola               117.88\n",
      "66           Oman               104.90\n",
      "67      Guatemala               102.31\n",
      "68       Bulgaria               100.64\n",
      "\n",
      "[69 rows x 2 columns]\n"
     ]
    }
   ],
   "source": [
    "run_query(query_statement, conn)"
   ]
  },
  {
   "cell_type": "markdown",
   "metadata": {},
   "source": [
    "**Testing Log Function**"
   ]
  },
  {
   "cell_type": "code",
   "execution_count": 17,
   "metadata": {},
   "outputs": [],
   "source": [
    "# define a function to log progress\n",
    "\n",
    "def log_progress(message):\n",
    "    timestamp_format = '%Y-%h-%D-%H:%M:%S' # Year-Monthname-Day-Hour-Minute-Second \n",
    "    now = datetime.now() # get current timestamp \n",
    "    timestamp = now.strftime(timestamp_format) \n",
    "    with open(log_file,\"a\") as f: \n",
    "        f.write(timestamp + ',' + message + '\\n')"
   ]
  },
  {
   "cell_type": "code",
   "execution_count": 18,
   "metadata": {},
   "outputs": [],
   "source": [
    "log_progress('ETL process completed successfully')"
   ]
  },
  {
   "cell_type": "markdown",
   "metadata": {},
   "source": [
    "**Testing Full Code**"
   ]
  },
  {
   "cell_type": "code",
   "execution_count": 27,
   "metadata": {},
   "outputs": [],
   "source": [
    "# define ETL functions\n",
    "\n",
    "def log_progress(message):\n",
    "    timestamp_format = '%Y-%h-%D-%H:%M:%S' # Year-Monthname-Day-Hour-Minute-Second \n",
    "    now = datetime.now() # get current timestamp \n",
    "    timestamp = now.strftime(timestamp_format) \n",
    "    with open(log_file,\"a\") as f: \n",
    "        f.write(timestamp + ',' + message + '\\n')\n",
    "\n",
    "def extract(url,table_attribs,column_indices):\n",
    "    # parse HTML from url\n",
    "    html_content = requests.get(url).content\n",
    "    data = BeautifulSoup(html_content, 'html.parser') # choose content to also bring in tags\n",
    "    table = data.find_all('table')[2] # get content related to table at index 2\n",
    "    rows = table.find_all('tr') # get all rows\n",
    "    rows = rows[2:] # remove first two header rows\n",
    "\n",
    "    # filter cells from the specified columns into a list\n",
    "    filtered_cells = []\n",
    "    for row in rows:\n",
    "        cells = row.find_all('td')\n",
    "        if len(cells) == 0: # remember to check number of cells in a row - many web tables have invisible merged rows\n",
    "            continue\n",
    "        if row.find('a') is None: # rows not hyperlinked to a country, namely World, are excluded\n",
    "            continue\n",
    "        selected_cells = [cells[i] for i in column_indices if i < len(cells)]\n",
    "        filtered_cells.append(selected_cells)\n",
    "\n",
    "    # extract data from filtered cells into a pandas dataframe\n",
    "    df = pd.DataFrame(columns=table_attribs)\n",
    "    for row in filtered_cells:\n",
    "        data_dict = {table_attribs[0]: row[0].text.strip(), table_attribs[1]: row[1].text.strip()}\n",
    "        df1 = pd.DataFrame([data_dict], index=[0])\n",
    "        df = pd.concat([df, df1], ignore_index=True)\n",
    "        \n",
    "    return df\n",
    "\n",
    "def transform(df):\n",
    "    # clean string data in GDP column\n",
    "    df['GDP (Millions, USD)'] = df['GDP (Millions, USD)'].str.replace(',', '') # remove commas from string\n",
    "    df['GDP (Millions, USD)'] = df['GDP (Millions, USD)'].replace('—', 0) # convert special character to zero\n",
    "\n",
    "    # convert millions to billions, rounded to two decimal places\n",
    "    df['GDP (Millions, USD)'] = round(df['GDP (Millions, USD)'].astype(float) / 1000,2) # convert string to float to run arithmetic operations\n",
    "    df.rename(columns={'GDP (Millions, USD)': 'GDP (Billions, USD)'}, inplace=True)  # rename column to reflect new values\n",
    "    return df\n",
    "\n",
    "def load_to_csv(df, csv_path):\n",
    "    file = df.to_csv(csv_path)\n",
    "\n",
    "def load_to_db(df, sql_connection, table_name):\n",
    "    df.to_sql(table_name, sql_connection, if_exists = 'replace', index =False) #check if table exists and choose fail, replace, append as appropriate\n",
    "\n",
    "def run_query(query_statement, sql_connection):\n",
    "    query_output = pd.read_sql(query_statement, sql_connection)\n",
    "    print(query_statement)\n",
    "    print(query_output)"
   ]
  },
  {
   "cell_type": "code",
   "execution_count": 28,
   "metadata": {},
   "outputs": [
    {
     "name": "stdout",
     "output_type": "stream",
     "text": [
      "           Country  GDP (Billions, USD)\n",
      "0    United States             26854.60\n",
      "1            China             19373.59\n",
      "2            Japan              4409.74\n",
      "3          Germany              4308.85\n",
      "4            India              3736.88\n",
      "..             ...                  ...\n",
      "208       Anguilla                 0.00\n",
      "209       Kiribati                 0.25\n",
      "210          Nauru                 0.15\n",
      "211     Montserrat                 0.00\n",
      "212         Tuvalu                 0.06\n",
      "\n",
      "[213 rows x 2 columns]\n",
      "SELECT * FROM countries_by_gdp WHERE `GDP (Billions, USD)` > 100\n",
      "          Country  GDP (Billions, USD)\n",
      "0   United States             26854.60\n",
      "1           China             19373.59\n",
      "2           Japan              4409.74\n",
      "3         Germany              4308.85\n",
      "4           India              3736.88\n",
      "..            ...                  ...\n",
      "64          Kenya               118.13\n",
      "65         Angola               117.88\n",
      "66           Oman               104.90\n",
      "67      Guatemala               102.31\n",
      "68       Bulgaria               100.64\n",
      "\n",
      "[69 rows x 2 columns]\n"
     ]
    }
   ],
   "source": [
    "# log initiatization of ETL process\n",
    "log_progress('ETL job started')\n",
    "\n",
    "# Log the beginning of the Extraction process \n",
    "log_progress(\"Extract phase started\") \n",
    "data = extract(url,table_attribs,column_indices)\n",
    " \n",
    "# Log the completion of the Extraction process \n",
    "log_progress(\"Extract phase ended\") \n",
    " \n",
    "# Log the beginning of the Transformation process \n",
    "log_progress(\"Transform phase started\") \n",
    "transformed_data = transform(data) \n",
    "print(transformed_data) \n",
    " \n",
    "# Log the completion of the Transformation process \n",
    "log_progress(\"Transform phase ended\") \n",
    " \n",
    "# Log the beginning of the Loading process \n",
    "log_progress(\"Load phase started\") \n",
    "load_to_csv(transformed_data, csv_path) \n",
    "\n",
    "# open database connection\n",
    "conn = sqlite3.connect(db_name)\n",
    "load_to_db(transformed_data, conn, table_name)\n",
    " \n",
    "# Log the completion of the Loading process \n",
    "log_progress(\"Load phase Ended\") \n",
    " \n",
    "# Log the beginning of the Query process\n",
    "log_progress(\"Query phase started\")\n",
    "query_statement = f\"SELECT * FROM {table_name} WHERE `GDP (Billions, USD)` > 100\"\n",
    "run_query(query_statement, conn)\n",
    "\n",
    "# log the completion of the Query process\n",
    "log_progress(\"Query phase ended\")\n",
    "\n",
    "# close database connection\n",
    "conn.close()\n",
    " \n",
    "# Log the completion of the ETL process \n",
    "log_progress(\"ETL Job ended\") \n"
   ]
  }
 ],
 "metadata": {
  "kernelspec": {
   "display_name": "kjpenv",
   "language": "python",
   "name": "python3"
  },
  "language_info": {
   "codemirror_mode": {
    "name": "ipython",
    "version": 3
   },
   "file_extension": ".py",
   "mimetype": "text/x-python",
   "name": "python",
   "nbconvert_exporter": "python",
   "pygments_lexer": "ipython3",
   "version": "3.12.7"
  }
 },
 "nbformat": 4,
 "nbformat_minor": 2
}
