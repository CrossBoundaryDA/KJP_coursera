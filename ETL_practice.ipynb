{
 "cells": [
  {
   "cell_type": "markdown",
   "metadata": {},
   "source": [
    "# ETL Practice Project\n",
    "**Project Scenario** \n",
    "<br>\n",
    "An international firm that is looking to expand its business in different countries across the world has recruited you. You have been hired as a junior Data Engineer and are tasked with:\n",
    "\n",
    "1. Creating an automated script that can extract the list of all countries:\n",
    "- In order of their GDPs in billion USDs\n",
    "- Rounded to 2 decimal places\n",
    "- As logged by the International Monetary Fund (IMF). Since IMF releases this evaluation twice a year, this code will be used by the organization to extract the information as it is updated. The required data seems to be available on the URL mentioned here: <a href=https://web.archive.org/web/20230902185326/https://en.wikipedia.org/wiki/List_of_countries_by_GDP_%28nominal%29>List of countries by GDP (nominal)</a>\n",
    "\n",
    "2. The required information needs to be made accessible as:\n",
    "- A CSV file Countries_by_GDP.csv\n",
    "- A table Countries_by_GDP in a database file World_Economies.db with attributes Country and GDP_USD_billion\n",
    "\n",
    "3. Your boss wants you to demonstrate the success of this code by:\n",
    "- Running a query on the database table to display only the entries with more than a 100 billion USD economy\n",
    "- Log in a file with the entire process of execution named etl_project_log.txt\n",
    "\n",
    "**You must create a Python code 'etl_project_gdp.py' that performs all the required tasks**"
   ]
  },
  {
   "cell_type": "markdown",
   "metadata": {},
   "source": [
    "\n",
    "**Project Objectives**\n",
    "<br>\n",
    "You have to complete the following tasks for this project:\n",
    "1. Write a data extraction function to retrieve the relevant information from the required URL.\n",
    "1. Transform the available GDP information into 'Billion USD' from 'Million USD'\n",
    "1. Load the transformed information to the required CSV file and as a database file\n",
    "1. Run the required query on the database\n",
    "1. Log the progress of the code with appropriate timestamps."
   ]
  },
  {
   "cell_type": "markdown",
   "metadata": {},
   "source": [
    "<hr>\n",
    "\n",
    "**Setup**"
   ]
  },
  {
   "cell_type": "code",
   "execution_count": 1,
   "metadata": {},
   "outputs": [],
   "source": [
    "# import required libraries\n",
    "import sqlite3\n",
    "import pandas as pd\n",
    "import requests\n",
    "from bs4 import BeautifulSoup\n",
    "from datetime import datetime\n",
    "import numpy as np\n"
   ]
  },
  {
   "cell_type": "code",
   "execution_count": 2,
   "metadata": {},
   "outputs": [],
   "source": [
    "#define empty entities\n",
    "db_name = 'world_economies.db'\n",
    "table_name = 'countries_by_gdp'\n",
    "csv_path = './countries_by_gdp.csv'"
   ]
  },
  {
   "cell_type": "code",
   "execution_count": 3,
   "metadata": {},
   "outputs": [],
   "source": [
    "# define source and source structure\n",
    "url = 'https://web.archive.org/web/20230902185326/https:/en.wikipedia.org/wiki/List_of_countries_by_GDP_%28nominal%29'\n",
    "table_attribs = ['Country', 'GDP (Millions, USD)']\n",
    "column_indices = [0, 2]  # target columns from which data will be extracted\n"
   ]
  },
  {
   "cell_type": "markdown",
   "metadata": {},
   "source": [
    "**Testing Extract**"
   ]
  },
  {
   "cell_type": "code",
   "execution_count": null,
   "metadata": {},
   "outputs": [],
   "source": [
    "# parse HTML from url\n",
    "html_content = requests.get(url).content\n",
    "data = BeautifulSoup(html_content, 'html.parser') # choose content to also bring in tags\n",
    "table = data.find_all('table')[2] # get content related to table at index 2\n",
    "rows = table.find_all('tr') # get all rows\n",
    "rows = rows[2:] # remove first two header rows\n",
    "rows"
   ]
  },
  {
   "cell_type": "code",
   "execution_count": 8,
   "metadata": {},
   "outputs": [],
   "source": [
    "# filter cells from the specified columns into a list\n",
    "filtered_cells = []\n",
    "for row in rows:\n",
    "    cells = row.find_all('td')\n",
    "    if len(cells) == 0: #remember to check number of cells in a row - many web tables have invisible merged rows\n",
    "        continue\n",
    "    if row.find('a') is None:\n",
    "        continue\n",
    "    selected_cells = [cells[i] for i in column_indices if i < len(cells)]\n",
    "    filtered_cells.append(selected_cells)"
   ]
  },
  {
   "cell_type": "code",
   "execution_count": 131,
   "metadata": {},
   "outputs": [],
   "source": [
    "# extract data from filtered cells into a pandas dataframe\n",
    "df = pd.DataFrame(columns=table_attribs)\n",
    "for row in filtered_cells:\n",
    "    data_dict = {table_attribs[0]: row[0].text.strip(), table_attribs[1]: row[1].text.strip()}\n",
    "    df1 = pd.DataFrame([data_dict], index=[0])\n",
    "    df = pd.concat([df, df1], ignore_index=True)"
   ]
  },
  {
   "cell_type": "code",
   "execution_count": 138,
   "metadata": {},
   "outputs": [],
   "source": [
    "# replace special character in GDP column with 0\n",
    "df[table_attribs[1]] = df[table_attribs[1]].replace('—', 0)"
   ]
  },
  {
   "cell_type": "code",
   "execution_count": 25,
   "metadata": {},
   "outputs": [],
   "source": [
    "def extract(url,table_attribs,column_indices):\n",
    "    # parse HTML from url\n",
    "    html_content = requests.get(url).content\n",
    "    data = BeautifulSoup(html_content, 'html.parser') # choose content to also bring in tags\n",
    "    table = data.find_all('table')[2] # get content related to table at index 2\n",
    "    rows = table.find_all('tr') # get all rows\n",
    "    rows = rows[2:] # remove first two header rows\n",
    "\n",
    "    # filter cells from the specified columns into a list\n",
    "    filtered_cells = []\n",
    "    for row in rows:\n",
    "        cells = row.find_all('td')\n",
    "        if len(cells) == 0: # remember to check number of cells in a row - many web tables have invisible merged rows\n",
    "            continue\n",
    "        if row.find('a') is None: # rows not hyperlinked to a country, namely World, are excluded\n",
    "            continue\n",
    "        selected_cells = [cells[i] for i in column_indices if i < len(cells)]\n",
    "        filtered_cells.append(selected_cells)\n",
    "\n",
    "    # extract data from filtered cells into a pandas dataframe\n",
    "    df = pd.DataFrame(columns=table_attribs)\n",
    "    for row in filtered_cells:\n",
    "        data_dict = {table_attribs[0]: row[0].text.strip(), table_attribs[1]: row[1].text.strip()}\n",
    "        df1 = pd.DataFrame([data_dict], index=[0])\n",
    "        df = pd.concat([df, df1], ignore_index=True)\n",
    "        \n",
    "    return df"
   ]
  },
  {
   "cell_type": "code",
   "execution_count": null,
   "metadata": {},
   "outputs": [],
   "source": [
    "data = extract(url,table_attribs,column_indices)\n",
    "data"
   ]
  },
  {
   "cell_type": "markdown",
   "metadata": {},
   "source": [
    "**Testing Transform**"
   ]
  },
  {
   "cell_type": "code",
   "execution_count": 48,
   "metadata": {},
   "outputs": [],
   "source": [
    "# clean string data in GDP column\n",
    "data['GDP (Millions, USD)'] = data['GDP (Millions, USD)'].str.replace(',', '') # remove commas from string\n",
    "data['GDP (Millions, USD)'] = data['GDP (Millions, USD)'].replace('—', 0) # convert special character to zero\n"
   ]
  },
  {
   "cell_type": "code",
   "execution_count": null,
   "metadata": {},
   "outputs": [],
   "source": [
    "# convert millions to billions, rounded to two decimal places\n",
    "data['GDP (Millions, USD)'] = round(data['GDP (Millions, USD)'].astype(float) / 1000,2) # convert string to float to run arithmetic operations\n",
    "data.rename(columns={'GDP (Millions, USD)': 'GDP (Billions, USD)'}, inplace=True)  # rename column to reflect new values\n",
    "print(data)\n"
   ]
  },
  {
   "cell_type": "code",
   "execution_count": 51,
   "metadata": {},
   "outputs": [],
   "source": [
    "def transform(df):\n",
    "    # clean string data in GDP column\n",
    "    df['GDP (Millions, USD)'] = df['GDP (Millions, USD)'].str.replace(',', '') # remove commas from string\n",
    "    df['GDP (Millions, USD)'] = df['GDP (Millions, USD)'].replace('—', 0) # convert special character to zero\n",
    "\n",
    "    # convert millions to billions, rounded to two decimal places\n",
    "    df['GDP (Millions, USD)'] = round(df['GDP (Millions, USD)'].astype(float) / 1000,2) # convert string to float to run arithmetic operations\n",
    "    df.rename(columns={'GDP (Millions, USD)': 'GDP (Billions, USD)'}, inplace=True)  # rename column to reflect new values\n",
    "    return df"
   ]
  },
  {
   "cell_type": "code",
   "execution_count": 52,
   "metadata": {},
   "outputs": [
    {
     "data": {
      "text/html": [
       "<div>\n",
       "<style scoped>\n",
       "    .dataframe tbody tr th:only-of-type {\n",
       "        vertical-align: middle;\n",
       "    }\n",
       "\n",
       "    .dataframe tbody tr th {\n",
       "        vertical-align: top;\n",
       "    }\n",
       "\n",
       "    .dataframe thead th {\n",
       "        text-align: right;\n",
       "    }\n",
       "</style>\n",
       "<table border=\"1\" class=\"dataframe\">\n",
       "  <thead>\n",
       "    <tr style=\"text-align: right;\">\n",
       "      <th></th>\n",
       "      <th>Country</th>\n",
       "      <th>GDP (Billions, USD)</th>\n",
       "    </tr>\n",
       "  </thead>\n",
       "  <tbody>\n",
       "    <tr>\n",
       "      <th>0</th>\n",
       "      <td>United States</td>\n",
       "      <td>26854.60</td>\n",
       "    </tr>\n",
       "    <tr>\n",
       "      <th>1</th>\n",
       "      <td>China</td>\n",
       "      <td>19373.59</td>\n",
       "    </tr>\n",
       "    <tr>\n",
       "      <th>2</th>\n",
       "      <td>Japan</td>\n",
       "      <td>4409.74</td>\n",
       "    </tr>\n",
       "    <tr>\n",
       "      <th>3</th>\n",
       "      <td>Germany</td>\n",
       "      <td>4308.85</td>\n",
       "    </tr>\n",
       "    <tr>\n",
       "      <th>4</th>\n",
       "      <td>India</td>\n",
       "      <td>3736.88</td>\n",
       "    </tr>\n",
       "    <tr>\n",
       "      <th>...</th>\n",
       "      <td>...</td>\n",
       "      <td>...</td>\n",
       "    </tr>\n",
       "    <tr>\n",
       "      <th>208</th>\n",
       "      <td>Anguilla</td>\n",
       "      <td>0.00</td>\n",
       "    </tr>\n",
       "    <tr>\n",
       "      <th>209</th>\n",
       "      <td>Kiribati</td>\n",
       "      <td>0.25</td>\n",
       "    </tr>\n",
       "    <tr>\n",
       "      <th>210</th>\n",
       "      <td>Nauru</td>\n",
       "      <td>0.15</td>\n",
       "    </tr>\n",
       "    <tr>\n",
       "      <th>211</th>\n",
       "      <td>Montserrat</td>\n",
       "      <td>0.00</td>\n",
       "    </tr>\n",
       "    <tr>\n",
       "      <th>212</th>\n",
       "      <td>Tuvalu</td>\n",
       "      <td>0.06</td>\n",
       "    </tr>\n",
       "  </tbody>\n",
       "</table>\n",
       "<p>213 rows × 2 columns</p>\n",
       "</div>"
      ],
      "text/plain": [
       "           Country  GDP (Billions, USD)\n",
       "0    United States             26854.60\n",
       "1            China             19373.59\n",
       "2            Japan              4409.74\n",
       "3          Germany              4308.85\n",
       "4            India              3736.88\n",
       "..             ...                  ...\n",
       "208       Anguilla                 0.00\n",
       "209       Kiribati                 0.25\n",
       "210          Nauru                 0.15\n",
       "211     Montserrat                 0.00\n",
       "212         Tuvalu                 0.06\n",
       "\n",
       "[213 rows x 2 columns]"
      ]
     },
     "execution_count": 52,
     "metadata": {},
     "output_type": "execute_result"
    }
   ],
   "source": [
    "transformed_data = transform(data)\n",
    "transformed_data"
   ]
  },
  {
   "cell_type": "code",
   "execution_count": 59,
   "metadata": {},
   "outputs": [
    {
     "ename": "ModuleNotFoundError",
     "evalue": "No module named 'yaml'",
     "output_type": "error",
     "traceback": [
      "\u001b[1;31m---------------------------------------------------------------------------\u001b[0m",
      "\u001b[1;31mModuleNotFoundError\u001b[0m                       Traceback (most recent call last)",
      "Cell \u001b[1;32mIn[59], line 2\u001b[0m\n\u001b[0;32m      1\u001b[0m \u001b[38;5;28;01mfrom\u001b[39;00m \u001b[38;5;21;01mimportlib\u001b[39;00m \u001b[38;5;28;01mimport\u001b[39;00m reload\n\u001b[1;32m----> 2\u001b[0m \u001b[43mreload\u001b[49m\u001b[43m(\u001b[49m\u001b[43mru\u001b[49m\u001b[43m)\u001b[49m\n\u001b[0;32m      3\u001b[0m \u001b[38;5;28;01mimport\u001b[39;00m \u001b[38;5;21;01mrepo_utils\u001b[39;00m \u001b[38;5;28;01mas\u001b[39;00m \u001b[38;5;21;01mru\u001b[39;00m\n\u001b[0;32m      5\u001b[0m onedrive_root \u001b[38;5;241m=\u001b[39m ru\u001b[38;5;241m.\u001b[39mget_onedrive_root()\n",
      "File \u001b[1;32mc:\\Users\\KathleenJean-Pierre\\anaconda3\\envs\\kjpenv\\Lib\\importlib\\__init__.py:131\u001b[0m, in \u001b[0;36mreload\u001b[1;34m(module)\u001b[0m\n\u001b[0;32m    129\u001b[0m \u001b[38;5;28;01mif\u001b[39;00m spec \u001b[38;5;129;01mis\u001b[39;00m \u001b[38;5;28;01mNone\u001b[39;00m:\n\u001b[0;32m    130\u001b[0m     \u001b[38;5;28;01mraise\u001b[39;00m \u001b[38;5;167;01mModuleNotFoundError\u001b[39;00m(\u001b[38;5;124mf\u001b[39m\u001b[38;5;124m\"\u001b[39m\u001b[38;5;124mspec not found for the module \u001b[39m\u001b[38;5;132;01m{\u001b[39;00mname\u001b[38;5;132;01m!r}\u001b[39;00m\u001b[38;5;124m\"\u001b[39m, name\u001b[38;5;241m=\u001b[39mname)\n\u001b[1;32m--> 131\u001b[0m \u001b[43m_bootstrap\u001b[49m\u001b[38;5;241;43m.\u001b[39;49m\u001b[43m_exec\u001b[49m\u001b[43m(\u001b[49m\u001b[43mspec\u001b[49m\u001b[43m,\u001b[49m\u001b[43m \u001b[49m\u001b[43mmodule\u001b[49m\u001b[43m)\u001b[49m\n\u001b[0;32m    132\u001b[0m \u001b[38;5;66;03m# The module may have replaced itself in sys.modules!\u001b[39;00m\n\u001b[0;32m    133\u001b[0m \u001b[38;5;28;01mreturn\u001b[39;00m sys\u001b[38;5;241m.\u001b[39mmodules[name]\n",
      "File \u001b[1;32m<frozen importlib._bootstrap>:866\u001b[0m, in \u001b[0;36m_exec\u001b[1;34m(spec, module)\u001b[0m\n",
      "File \u001b[1;32m<frozen importlib._bootstrap_external>:995\u001b[0m, in \u001b[0;36mexec_module\u001b[1;34m(self, module)\u001b[0m\n",
      "File \u001b[1;32m<frozen importlib._bootstrap>:488\u001b[0m, in \u001b[0;36m_call_with_frames_removed\u001b[1;34m(f, *args, **kwds)\u001b[0m\n",
      "File \u001b[1;32mc:\\Users\\KathleenJean-Pierre\\OneDrive - CrossBoundary\\Documents\\My Code\\repo_utils.py:1\u001b[0m\n\u001b[1;32m----> 1\u001b[0m \u001b[38;5;28;01mimport\u001b[39;00m \u001b[38;5;21;01myaml\u001b[39;00m\n\u001b[0;32m      2\u001b[0m \u001b[38;5;28;01mimport\u001b[39;00m \u001b[38;5;21;01mos\u001b[39;00m\n\u001b[0;32m      3\u001b[0m \u001b[38;5;28;01mimport\u001b[39;00m \u001b[38;5;21;01msys\u001b[39;00m\n",
      "\u001b[1;31mModuleNotFoundError\u001b[0m: No module named 'yaml'"
     ]
    }
   ],
   "source": [
    "from importlib import reload\n",
    "reload(ru)\n",
    "import repo_utils as ru\n",
    "\n",
    "onedrive_root = ru.get_onedrive_root()\n",
    "\n",
    "ru.function_to_square_numbers(4)"
   ]
  },
  {
   "cell_type": "markdown",
   "metadata": {},
   "source": [
    "**Testing Load**"
   ]
  },
  {
   "cell_type": "markdown",
   "metadata": {},
   "source": [
    "**Testing Query**"
   ]
  },
  {
   "cell_type": "code",
   "execution_count": null,
   "metadata": {},
   "outputs": [],
   "source": [
    "# Code for ETL operations on Country-GDP data\n",
    "\n",
    "def load_to_csv(df, csv_path):\n",
    "    ''' This function saves the final dataframe as a `CSV` file \n",
    "    in the provided path. Function returns nothing.'''\n",
    "\n",
    "def load_to_db(df, sql_connection, table_name):\n",
    "    ''' This function saves the final dataframe as a database table\n",
    "    with the provided name. Function returns nothing.'''\n",
    "\n",
    "def run_query(query_statement, sql_connection):\n",
    "    ''' This function runs the stated query on the database table and\n",
    "    prints the output on the terminal. Function returns nothing. '''\n",
    "\n",
    "def log_progress(message):\n",
    "    ''' This function logs the mentioned message at a given stage of the code execution to a log file. Function returns nothing'''\n",
    "\n",
    "''' Here, you define the required entities and call the relevant \n",
    "functions in the correct order to complete the project. Note that this\n",
    "portion is not inside any function.'''"
   ]
  }
 ],
 "metadata": {
  "kernelspec": {
   "display_name": "kjpenv",
   "language": "python",
   "name": "python3"
  },
  "language_info": {
   "codemirror_mode": {
    "name": "ipython",
    "version": 3
   },
   "file_extension": ".py",
   "mimetype": "text/x-python",
   "name": "python",
   "nbconvert_exporter": "python",
   "pygments_lexer": "ipython3",
   "version": "3.12.7"
  }
 },
 "nbformat": 4,
 "nbformat_minor": 2
}
