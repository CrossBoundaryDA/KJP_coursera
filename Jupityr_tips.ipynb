{
 "cells": [
  {
   "cell_type": "markdown",
   "metadata": {},
   "source": [
    "# Jupityr Notebooks Tips & Tricks"
   ]
  },
  {
   "cell_type": "code",
   "execution_count": null,
   "metadata": {
    "vscode": {
     "languageId": "plaintext"
    }
   },
   "outputs": [],
   "source": [
    "# One of the coolest features is alt+shift+crtl then up and down to make mutliple changes to rows  \n",
    "# This will type at the same time\n",
    "# This will type at the same time\n",
    "# This will type at the same time"
   ]
  },
  {
   "cell_type": "code",
   "execution_count": null,
   "metadata": {
    "vscode": {
     "languageId": "plaintext"
    }
   },
   "outputs": [],
   "source": [
    "# check you're working in the right environment\n",
    "# type 'deactivate' in the terminal to exit the virtual environment\n",
    "# type 'conda activate kjpenv' to enter the virtual environment"
   ]
  },
  {
   "cell_type": "code",
   "execution_count": null,
   "metadata": {
    "vscode": {
     "languageId": "plaintext"
    }
   },
   "outputs": [],
   "source": [
    "# Hit crtl+enter to run the code block"
   ]
  },
  {
   "cell_type": "code",
   "execution_count": null,
   "metadata": {
    "vscode": {
     "languageId": "plaintext"
    }
   },
   "outputs": [],
   "source": [
    "# crtl+shift+- splits the cell - great for copying content and working down through a function\n",
    "# fn and arrows for moving to and from start and end of a row \n",
    "# alt-delete to clear long cell outputs \n",
    "# alt-win-j to join the cell below to this cell "
   ]
  },
  {
   "cell_type": "code",
   "execution_count": null,
   "metadata": {
    "vscode": {
     "languageId": "plaintext"
    }
   },
   "outputs": [],
   "source": [
    "# for terminal to publish Notebook\n",
    "git add your_notebook.ipynb\n",
    "git commit -m \"Add Jupyter Notebook\"\n",
    "git push origin main\n",
    "\n",
    "# for terminal to publish Notebook\n",
    "git add ETL_practice.ipynb\n",
    "git commit -m \"Add Jupyter Notebook\"\n",
    "git push origin main"
   ]
  }
 ],
 "metadata": {
  "language_info": {
   "name": "python"
  }
 },
 "nbformat": 4,
 "nbformat_minor": 2
}
